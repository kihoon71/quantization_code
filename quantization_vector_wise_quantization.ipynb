{
  "nbformat": 4,
  "nbformat_minor": 0,
  "metadata": {
    "colab": {
      "provenance": [],
      "authorship_tag": "ABX9TyNVMgsgBHGPhHpXbqGMmUSE",
      "include_colab_link": true
    },
    "kernelspec": {
      "name": "python3",
      "display_name": "Python 3"
    },
    "language_info": {
      "name": "python"
    }
  },
  "cells": [
    {
      "cell_type": "markdown",
      "metadata": {
        "id": "view-in-github",
        "colab_type": "text"
      },
      "source": [
        "<a href=\"https://colab.research.google.com/github/kihoon71/quantization_code/blob/main/quantization_vector_wise_quantization.ipynb\" target=\"_parent\"><img src=\"https://colab.research.google.com/assets/colab-badge.svg\" alt=\"Open In Colab\"/></a>"
      ]
    },
    {
      "cell_type": "code",
      "execution_count": null,
      "metadata": {
        "id": "mAyuas2EOOgW"
      },
      "outputs": [],
      "source": [
        "import numpy as np\n",
        "import math\n",
        "\n",
        "## vector-wise quantization\n",
        "class VectorWiseQuantization:\n",
        "  def __init__(self, X, W):\n",
        "    self.X = X\n",
        "    self.W = W\n",
        "\n",
        "    # scaling factor vectors\n",
        "    self.C_x = self.get_abs_max(self.X, axis=1) # by row\n",
        "    self.C_w = self.get_abs_max(self.W, axis=0) # by column\n",
        "\n",
        "    #quantized_x, quantized_w\n",
        "    self.q_x = self.absmax_quantization_x()\n",
        "    self.q_w = self.absmax_quantization_w()\n",
        "\n",
        "    #quantized_matrix\n",
        "    self.quantized_matrix_multiplication = self.quantized_matrix_multiplication(self.q_x, self.q_w)\n",
        "\n",
        "    #dequantized_matrix\n",
        "    self.dequantized_matrix = self.dequantization()\n",
        "\n",
        "  def get_abs_max(self, matrix, axis=0):\n",
        "    return np.max(np.abs(matrix), axis=axis)\n",
        "\n",
        "  def get_range_data_type(self, d_type='int8'):\n",
        "    return float(np.iinfo(d_type).max)\n",
        "\n",
        "  def get_absmax_scale(self, absmax, dtype='int8'):\n",
        "    scale = self.get_range_data_type(dtype) / absmax\n",
        "    return scale.astype('float16')\n",
        "\n",
        "  def absmax_quantization_x(self):\n",
        "    scale = self.get_absmax_scale(self.C_x)\n",
        "    quantized_x = np.round(self.X * scale[:, np.newaxis] )\n",
        "    return quantized_x.astype('int8')\n",
        "\n",
        "  def absmax_quantization_w(self):\n",
        "    scale = self.get_absmax_scale(self.C_w)\n",
        "    quantized_w = np.round(self.W * scale[np.newaxis, :])\n",
        "    return quantized_w.astype('int8')\n",
        "\n",
        "  def quantized_matrix_multiplication(self, x, w):\n",
        "    ## if we do not type-cast before the matmul overflow issue will come out.\n",
        "    x_32 = x.astype('int32')\n",
        "    w_32 = w.astype('int32')\n",
        "    result = np.dot(x_32, w_32)\n",
        "    return result\n",
        "\n",
        "  def dequantization(self):\n",
        "    outer_product = np.outer(self.C_x, self.C_w)\n",
        "    matrix_ = self.quantized_matrix_multiplication * outer_product\n",
        "    matrix_ = matrix_ / (self.get_range_data_type() ** 2)\n",
        "\n",
        "    return matrix_\n",
        "\n"
      ]
    },
    {
      "cell_type": "code",
      "source": [
        "np.random.seed(0)\n",
        "a = np.random.random((5,5))\n",
        "print('X :\\n', a)\n",
        "\n",
        "b = np.random.random((5,5))\n",
        "print('W :\\n', b)\n",
        "\n",
        "c = VectorWiseQuantization(a, b)\n",
        "print(\"C_x :\", c.C_x)\n",
        "print(\"C_w :\", c.C_w)\n",
        "\n",
        "print(\"Quantized_X :\\n\", c.q_x)\n",
        "\n",
        "print(\"Quantized_W :\\n\", c.q_w)\n",
        "\n",
        "print(\"Quantized_multiplicated_matrix :\\n\", c.quantized_matrix_multiplication)\n",
        "\n",
        "print('outer product of c_x, c_w :\\n', np.outer(c.C_x, c.C_w))\n",
        "\n",
        "\n",
        "print('=' * 50)\n",
        "print(c.dequantized_matrix)\n",
        "print(np.dot(a, b))\n",
        "\n"
      ],
      "metadata": {
        "colab": {
          "base_uri": "https://localhost:8080/"
        },
        "id": "vMbdCMKKQxE-",
        "outputId": "f68bad1f-ce9c-4973-b2ab-18de5dc2f332"
      },
      "execution_count": null,
      "outputs": [
        {
          "output_type": "stream",
          "name": "stdout",
          "text": [
            "X :\n",
            " [[0.5488135  0.71518937 0.60276338 0.54488318 0.4236548 ]\n",
            " [0.64589411 0.43758721 0.891773   0.96366276 0.38344152]\n",
            " [0.79172504 0.52889492 0.56804456 0.92559664 0.07103606]\n",
            " [0.0871293  0.0202184  0.83261985 0.77815675 0.87001215]\n",
            " [0.97861834 0.79915856 0.46147936 0.78052918 0.11827443]]\n",
            "W :\n",
            " [[0.63992102 0.14335329 0.94466892 0.52184832 0.41466194]\n",
            " [0.26455561 0.77423369 0.45615033 0.56843395 0.0187898 ]\n",
            " [0.6176355  0.61209572 0.616934   0.94374808 0.6818203 ]\n",
            " [0.3595079  0.43703195 0.6976312  0.06022547 0.66676672]\n",
            " [0.67063787 0.21038256 0.1289263  0.31542835 0.36371077]]\n",
            "C_x : [0.71518937 0.96366276 0.92559664 0.87001215 0.97861834]\n",
            "C_w : [0.67063787 0.77423369 0.94466892 0.94374808 0.6818203 ]\n",
            "Quantized_X :\n",
            " [[ 97 127 107  97  75]\n",
            " [ 85  58 117 127  51]\n",
            " [109  73  78 127  10]\n",
            " [ 13   3 122 114 127]\n",
            " [127 104  60 101  15]]\n",
            "Quantized_W :\n",
            " [[121  24 127  70  77]\n",
            " [ 50 127  61  77   3]\n",
            " [117 100  83 127 127]\n",
            " [ 68  72  94   8 124]\n",
            " [127  35  17  42  68]]\n",
            "Quantized_multiplicated_matrix :\n",
            " [[46727 38766 39340 34084 38567]\n",
            " [41987 32035 36849 28433 40794]\n",
            " [35871 29181 36878 24593 34946]\n",
            " [39878 25546 24835 22881 39276]\n",
            " [36360 30053 37202 25956 31255]]\n",
            "outer product of c_x, c_w :\n",
            " [[0.47963307 0.5537237  0.67561716 0.67495859 0.48763063]\n",
            " [0.64626874 0.74610017 0.91034226 0.90945488 0.65704483]\n",
            " [0.62074016 0.7166281  0.87438237 0.87353005 0.63109058]\n",
            " [0.58346309 0.67359272 0.82187343 0.82107229 0.59319194]\n",
            " [0.65629852 0.75767929 0.92447033 0.92356918 0.66724185]]\n",
            "==================================================\n",
            "[[1.38953528 1.33087315 1.64788761 1.42633075 1.16600226]\n",
            " [1.68236627 1.48188475 2.07980667 1.6032321  1.66181951]\n",
            " [1.38053011 1.29654192 1.99922334 1.33193158 1.3673564 ]\n",
            " [1.44257804 1.0668733  1.26549859 1.16479355 1.44449171]\n",
            " [1.47950984 1.41177604 2.13231727 1.48627699 1.29299052]]\n",
            "[[1.39270148 1.32860775 1.6512939  1.42824068 1.16938443]\n",
            " [1.68347281 1.47905707 2.08164363 1.60639261 1.66607888]\n",
            " [1.37780687 1.29014235 1.99450313 1.32804445 1.36853399]\n",
            " [1.43857693 1.06090183 1.26023633 1.16403584 1.43948803]\n",
            " [1.48261208 1.40749225 2.13347927 1.4847943  1.29890636]]\n"
          ]
        }
      ]
    },
    {
      "cell_type": "code",
      "source": [
        "qa = np.array([[ 97,127, 107,  97,  75],\n",
        " [ 85,  58, 117, 127, 51],\n",
        " [109,  73,  78, 127,  10],\n",
        " [ 13,   3, 122, 114, 127],\n",
        " [127, 104,  60, 101,  15]])\n",
        "\n",
        "qb = np.array( [[121, 24, 127, 70, 77],\n",
        " [ 50, 127, 61, 77, 3],\n",
        " [117, 100,  83, 127, 127],\n",
        " [ 68,  72,  94,   8, 124],\n",
        " [127,  35,  17,  42,  68]])\n",
        "\n",
        "ab = np.dot(qa, qb)\n",
        "print(ab)"
      ],
      "metadata": {
        "colab": {
          "base_uri": "https://localhost:8080/"
        },
        "id": "YUHQdtLkpTpW",
        "outputId": "f090906c-b731-4b69-908f-0da95b49edd0"
      },
      "execution_count": null,
      "outputs": [
        {
          "output_type": "stream",
          "name": "stdout",
          "text": [
            "[[46727 38766 39340 34084 38567]\n",
            " [41987 32035 36849 28433 40794]\n",
            " [35871 29181 36878 24593 34946]\n",
            " [39878 25546 24835 22881 39276]\n",
            " [36360 30053 37202 25956 31255]]\n"
          ]
        }
      ]
    },
    {
      "cell_type": "code",
      "source": [],
      "metadata": {
        "id": "LF3VUlk4US42"
      },
      "execution_count": null,
      "outputs": []
    }
  ]
}