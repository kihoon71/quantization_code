{
  "nbformat": 4,
  "nbformat_minor": 0,
  "metadata": {
    "colab": {
      "provenance": [],
      "authorship_tag": "ABX9TyM5fOToVbVrF2HP3Aqh1Ug7",
      "include_colab_link": true
    },
    "kernelspec": {
      "name": "python3",
      "display_name": "Python 3"
    },
    "language_info": {
      "name": "python"
    }
  },
  "cells": [
    {
      "cell_type": "markdown",
      "metadata": {
        "id": "view-in-github",
        "colab_type": "text"
      },
      "source": [
        "<a href=\"https://colab.research.google.com/github/kihoon71/quantization_code/blob/main/mixed_precision_decomposition.ipynb\" target=\"_parent\"><img src=\"https://colab.research.google.com/assets/colab-badge.svg\" alt=\"Open In Colab\"/></a>"
      ]
    },
    {
      "cell_type": "code",
      "execution_count": 2,
      "metadata": {
        "id": "rsZrgI_WWx79"
      },
      "outputs": [],
      "source": [
        "import numpy as np\n",
        "\n",
        "class VectorWiseQuantization:\n",
        "  def __init__(self, X, W):\n",
        "    self.X = X\n",
        "    self.W = W\n",
        "\n",
        "    # scaling factor vectors\n",
        "    self.C_x = self.get_abs_max(self.X, axis=1) # by row\n",
        "    self.C_w = self.get_abs_max(self.W, axis=0) # by column\n",
        "\n",
        "    #quantized_x, quantized_w\n",
        "    self.q_x = self.absmax_quantization_x()\n",
        "    self.q_w = self.absmax_quantization_w()\n",
        "\n",
        "    #quantized_matrix\n",
        "    self.quantized_matrix_multiplication = self.quantized_matrix_multiplication(self.q_x, self.q_w)\n",
        "\n",
        "    #dequantized_matrix\n",
        "    self.dequantized_matrix = self.dequantization()\n",
        "\n",
        "  def get_abs_max(self, matrix, axis=0):\n",
        "    return np.max(np.abs(matrix), axis=axis)\n",
        "\n",
        "  def get_range_data_type(self, d_type='int8'):\n",
        "    return float(np.iinfo(d_type).max)\n",
        "\n",
        "  def get_absmax_scale(self, absmax, dtype='int8'):\n",
        "    scale = self.get_range_data_type(dtype) / absmax\n",
        "    return scale.astype('float16')\n",
        "\n",
        "  def absmax_quantization_x(self):\n",
        "    scale = self.get_absmax_scale(self.C_x)\n",
        "    quantized_x = np.round(self.X * scale[:, np.newaxis] )\n",
        "    return quantized_x.astype('int8')\n",
        "\n",
        "  def absmax_quantization_w(self):\n",
        "    scale = self.get_absmax_scale(self.C_w)\n",
        "    quantized_w = np.round(self.W * scale[np.newaxis, :])\n",
        "    return quantized_w.astype('int8')\n",
        "\n",
        "  def quantized_matrix_multiplication(self, x, w):\n",
        "    ## if we do not type-cast before the matmul overflow issue will come out.\n",
        "    x_32 = x.astype('int32')\n",
        "    w_32 = w.astype('int32')\n",
        "    result = np.dot(x_32, w_32)\n",
        "    return result\n",
        "\n",
        "  def dequantization(self):\n",
        "    outer_product = np.outer(self.C_x, self.C_w)\n",
        "    matrix_ = self.quantized_matrix_multiplication * outer_product\n",
        "    matrix_ = matrix_ / (self.get_range_data_type() ** 2)\n",
        "\n",
        "    return matrix_"
      ]
    },
    {
      "cell_type": "code",
      "source": [
        "class MixedPrecisionDecomposition:\n",
        "  def __init__(self, X, W):\n",
        "    self.X = X\n",
        "    self.W = W\n",
        "\n",
        "    #outlier matrices\n",
        "    self.outlier_indices = self.get_outlier_indices(self.X, axis=0)\n",
        "    self.outlier_x = self.X[:, self.outlier_indices]\n",
        "    self.outlier_w = self.W[self.outlier_indices, :]\n",
        "\n",
        "    #reuslt of matmul as float16 with outlier matrices\n",
        "    self.outlier_result = self.dot_outliers()\n",
        "\n",
        "    #non-outlier matrices\n",
        "    self.non_outlier_indices = np.setdiff1d(np.arange(self.X.shape[0]), self.outlier_indices)\n",
        "    self.non_outlier_x = self.X[:, self.non_outlier_indices]\n",
        "    self.non_outlier_w = self.W[self.non_outlier_indices, :]\n",
        "\n",
        "    #quantization matmul matrix\n",
        "    self.quantized_matrix_multiplication = VectorWiseQuantization(self.non_outlier_x, self.non_outlier_w)\n",
        "\n",
        "    self.dequantized_matrix = self.quantized_matrix_multiplication.dequantized_matrix\n",
        "\n",
        "    #dequantization matrix + f16 outlier matmul matrix\n",
        "    self.mixed_precision_matrix = self.combine()\n",
        "\n",
        "  def get_outlier_indices(self, matrix, axis=0, threshold=6):\n",
        "\n",
        "    outlier_indices = np.any(np.abs(matrix) > threshold, axis=axis)\n",
        "    return np.where(outlier_indices)[0]\n",
        "\n",
        "  def dot_outliers(self):\n",
        "    x_f16 = self.outlier_x.astype('float16')\n",
        "    w_f16 = self.outlier_w.astype('float16')\n",
        "    result = np.dot(x_f16, w_f16)\n",
        "    return result\n",
        "\n",
        "  def combine(self):\n",
        "    return self.dequantized_matrix + self.outlier_result\n",
        ""
      ],
      "metadata": {
        "id": "NCvFZXARXPo4"
      },
      "execution_count": 46,
      "outputs": []
    },
    {
      "cell_type": "code",
      "source": [
        "import numpy as np\n",
        "\n",
        "np.random.seed(0)\n",
        "\n",
        "def get_random_matrix(rows, cols, mean=0, std=1):\n",
        "  # 원하는 범위 설정\n",
        "  lower_bound = -10\n",
        "  upper_bound = 10\n",
        "\n",
        "  random_matrix = np.random.normal(mean, std, size=(rows, cols))\n",
        "\n",
        "  random_matrix = np.clip(random_matrix, lower_bound, upper_bound)\n",
        "\n",
        "  return random_matrix\n",
        "\n",
        "\n",
        "random_matrix_x = get_random_matrix(5,5, mean=0, std=3)\n",
        "random_matrix_w = get_random_matrix(5,5, mean=0, std=1)\n",
        "\n",
        "\n",
        "# 결과 출력\n",
        "print(\"랜덤 정규분포 행렬:\")\n",
        "print(random_matrix_x)\n",
        "print(random_matrix_w)\n"
      ],
      "metadata": {
        "colab": {
          "base_uri": "https://localhost:8080/"
        },
        "id": "9hwXykVkdKhf",
        "outputId": "e415b749-4fb1-4fa9-9f72-2d5f4f7e8e23"
      },
      "execution_count": 47,
      "outputs": [
        {
          "output_type": "stream",
          "name": "stdout",
          "text": [
            "랜덤 정규분포 행렬:\n",
            "[[ 5.29215704  1.20047163  2.93621395  6.7226796   5.60267397]\n",
            " [-2.93183364  2.85026525 -0.45407162 -0.30965656  1.23179551]\n",
            " [ 0.43213071  4.36282052  2.28311318  0.36502505  1.3315897 ]\n",
            " [ 1.00102298  4.48223722 -0.61547479  0.9392031  -2.56228722]\n",
            " [-7.65896945  1.96085579  2.5933086  -2.22649506  6.80926387]]\n",
            "[[-1.45436567  0.04575852 -0.18718385  1.53277921  1.46935877]\n",
            " [ 0.15494743  0.37816252 -0.88778575 -1.98079647 -0.34791215]\n",
            " [ 0.15634897  1.23029068  1.20237985 -0.38732682 -0.30230275]\n",
            " [-1.04855297 -1.42001794 -1.70627019  1.9507754  -0.50965218]\n",
            " [-0.4380743  -1.25279536  0.77749036 -1.61389785 -0.21274028]]\n"
          ]
        }
      ]
    },
    {
      "cell_type": "code",
      "source": [
        "decompostion = MixedPrecisionDecomposition(random_matrix_x, random_matrix_w)\n",
        "print(decompostion.outlier_x,'\\n', decompostion.outlier_w)"
      ],
      "metadata": {
        "colab": {
          "base_uri": "https://localhost:8080/"
        },
        "id": "WmjXpybhdvMa",
        "outputId": "4ce1fa17-f643-45ca-d869-c01da6ae7ea4"
      },
      "execution_count": 48,
      "outputs": [
        {
          "output_type": "stream",
          "name": "stdout",
          "text": [
            "[[ 5.29215704  6.7226796   5.60267397]\n",
            " [-2.93183364 -0.30965656  1.23179551]\n",
            " [ 0.43213071  0.36502505  1.3315897 ]\n",
            " [ 1.00102298  0.9392031  -2.56228722]\n",
            " [-7.65896945 -2.22649506  6.80926387]] \n",
            " [[-1.45436567  0.04575852 -0.18718385  1.53277921  1.46935877]\n",
            " [-1.04855297 -1.42001794 -1.70627019  1.9507754  -0.50965218]\n",
            " [-0.4380743  -1.25279536  0.77749036 -1.61389785 -0.21274028]]\n"
          ]
        }
      ]
    },
    {
      "cell_type": "code",
      "source": [
        "print(decompostion.non_outlier_x)\n",
        "print(decompostion.non_outlier_w)"
      ],
      "metadata": {
        "colab": {
          "base_uri": "https://localhost:8080/"
        },
        "id": "oyymBbmOhNrV",
        "outputId": "d74b172d-148f-4b95-f7fb-38ecb8cb3a0b"
      },
      "execution_count": 35,
      "outputs": [
        {
          "output_type": "stream",
          "name": "stdout",
          "text": [
            "[[ 1.20047163  2.93621395]\n",
            " [ 2.85026525 -0.45407162]\n",
            " [ 4.36282052  2.28311318]\n",
            " [ 4.48223722 -0.61547479]\n",
            " [ 1.96085579  2.5933086 ]]\n",
            "[[ 0.15494743  0.37816252 -0.88778575 -1.98079647 -0.34791215]\n",
            " [ 0.15634897  1.23029068  1.20237985 -0.38732682 -0.30230275]]\n"
          ]
        }
      ]
    },
    {
      "cell_type": "code",
      "source": [
        "print(decompostion.dequantized_matrix)\n",
        "print(decompostion.outlier_result)"
      ],
      "metadata": {
        "colab": {
          "base_uri": "https://localhost:8080/"
        },
        "id": "r6B3BTzRl4w3",
        "outputId": "f4e910a2-7ac1-442d-e324-ab3dbc4dd99f"
      },
      "execution_count": 49,
      "outputs": [
        {
          "output_type": "stream",
          "name": "stdout",
          "text": [
            "[[ 0.64556128  4.06660588  2.46051996 -3.52626182 -1.30307252]\n",
            " [ 0.37194819  0.52461764 -3.07629584 -5.47077534 -0.85638168]\n",
            " [ 1.0312403   4.4377278  -1.15654716 -9.52592347 -2.201107  ]\n",
            " [ 0.60146815  0.95525987 -4.71037827 -8.64445336 -1.37862471]\n",
            " [ 0.70953812  3.9311347   1.37357548 -4.89413226 -1.46348169]]\n",
            "[[-17.2    -16.33    -8.1     12.19     3.16  ]\n",
            " [  4.047   -1.237    2.033   -7.086   -4.414 ]\n",
            " [ -1.595   -2.168    0.3318  -0.7754   0.1656]\n",
            " [ -1.318    1.923   -3.781    7.504    1.538 ]\n",
            " [ 10.49    -5.72    10.52   -27.08   -11.57  ]]\n"
          ]
        }
      ]
    },
    {
      "cell_type": "code",
      "source": [
        "print(decompostion.mixed_precision_matrix)"
      ],
      "metadata": {
        "colab": {
          "base_uri": "https://localhost:8080/"
        },
        "id": "W1w2N2RAoEjf",
        "outputId": "f6c62ef9-fd09-4754-c057-9f0efc0e931c"
      },
      "execution_count": 50,
      "outputs": [
        {
          "output_type": "stream",
          "name": "stdout",
          "text": [
            "[[-16.55756372 -12.26151912  -5.64104254   8.66123818   1.85708373]\n",
            " [  4.41882319  -0.71268704  -1.04309271 -12.55671284  -5.27044418]\n",
            " [ -0.56348626   2.26975905  -0.82476005 -10.3013141   -2.03545758]\n",
            " [ -0.71689122   2.87811143  -8.49162827  -1.14054711   0.15946122]\n",
            " [ 11.20172562  -1.7876153   11.89701298 -31.97225726 -13.03379419]]\n"
          ]
        }
      ]
    },
    {
      "cell_type": "code",
      "source": [
        "print(np.dot(random_matrix_x, random_matrix_w))"
      ],
      "metadata": {
        "colab": {
          "base_uri": "https://localhost:8080/"
        },
        "id": "wt6iZe2HoKfZ",
        "outputId": "777ddf89-b047-4bef-d401-d6aa57e6da45"
      },
      "execution_count": 51,
      "outputs": [
        {
          "output_type": "stream",
          "name": "stdout",
          "text": [
            "[[-16.55512064 -12.25679827  -5.64060626   8.66883843   1.85265038]\n",
            " [  4.41967919  -0.71840279  -1.04153266 -12.5558374   -5.26652566]\n",
            " [ -0.5615892    2.29197021  -0.79650171 -10.30077733  -2.04243318]\n",
            " [ -0.71990321   2.85994283  -8.501364    -1.13821841   0.16393162]\n",
            " [ 11.19986743  -1.78736878  11.90409671 -31.96087144 -13.03381044]]\n"
          ]
        }
      ]
    },
    {
      "cell_type": "code",
      "source": [],
      "metadata": {
        "id": "7xWzzOZdoOZK"
      },
      "execution_count": null,
      "outputs": []
    }
  ]
}