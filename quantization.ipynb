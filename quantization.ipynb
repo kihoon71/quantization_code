{
  "nbformat": 4,
  "nbformat_minor": 0,
  "metadata": {
    "colab": {
      "provenance": [],
      "authorship_tag": "ABX9TyP9Bku1xe/6kV7dUVuUU2KQ",
      "include_colab_link": true
    },
    "kernelspec": {
      "name": "python3",
      "display_name": "Python 3"
    },
    "language_info": {
      "name": "python"
    }
  },
  "cells": [
    {
      "cell_type": "markdown",
      "metadata": {
        "id": "view-in-github",
        "colab_type": "text"
      },
      "source": [
        "<a href=\"https://colab.research.google.com/github/kihoon71/quantization_code/blob/main/quantization.ipynb\" target=\"_parent\"><img src=\"https://colab.research.google.com/assets/colab-badge.svg\" alt=\"Open In Colab\"/></a>"
      ]
    },
    {
      "cell_type": "markdown",
      "source": [
        "# Zero point Quantization"
      ],
      "metadata": {
        "id": "OU-MZqCRKOBK"
      }
    },
    {
      "cell_type": "code",
      "execution_count": null,
      "metadata": {
        "id": "p1J4ExX4u1t8",
        "colab": {
          "base_uri": "https://localhost:8080/"
        },
        "outputId": "30bbdb2b-9441-4844-dbb9-f2e135da2a0b"
      },
      "outputs": [
        {
          "output_type": "stream",
          "name": "stdout",
          "text": [
            "[-1.         -0.95918367 -0.91836735 -0.87755102 -0.83673469 -0.79591837\n",
            " -0.75510204 -0.71428571 -0.67346939 -0.63265306 -0.59183673 -0.55102041\n",
            " -0.51020408 -0.46938776 -0.42857143 -0.3877551  -0.34693878 -0.30612245\n",
            " -0.26530612 -0.2244898  -0.18367347 -0.14285714 -0.10204082 -0.06122449\n",
            " -0.02040816  0.02040816  0.06122449  0.10204082  0.14285714  0.18367347\n",
            "  0.2244898   0.26530612  0.30612245  0.34693878  0.3877551   0.42857143\n",
            "  0.46938776  0.51020408  0.55102041  0.59183673  0.63265306  0.67346939\n",
            "  0.71428571  0.75510204  0.79591837  0.83673469  0.87755102  0.91836735\n",
            "  0.95918367  1.        ]\n",
            "-1.0 1.0\n",
            "scale : 127.5\n",
            "zero point : 0.0\n",
            "64\n",
            "0.5019607843137255\n"
          ]
        }
      ],
      "source": [
        "import numpy as np\n",
        "\n",
        "def get_scale(r, d_type='int8'):\n",
        "  r_min, r_max = np.min(r), np.max(r)\n",
        "  d_min = np.iinfo(d_type).min\n",
        "  d_max = np.iinfo(d_type).max\n",
        "\n",
        "  scale = (d_max - d_min) / (r_max - r_min)\n",
        "\n",
        "  return scale\n",
        "\n",
        "def get_zeropoint(r, d_type='int8'):\n",
        "  r_min, r_max = np.min(r), np.max(r)\n",
        "  d_min = np.iinfo(d_type).min\n",
        "  d_max = np.iinfo(d_type).max\n",
        "\n",
        "  scale = get_scale(r, d_type)\n",
        "\n",
        "  zero_point = -1 * np.round(r_min * scale) + d_min\n",
        "\n",
        "  return zero_point\n",
        "\n",
        "\n",
        "def zero_point_quantiztion(r, value,d_type='int8'):\n",
        "\n",
        "  # get scale\n",
        "  scale = get_scale(r, d_type)\n",
        "\n",
        "\n",
        "  # get zero point\n",
        "  zero_point = get_zeropoint(r, d_type)\n",
        "\n",
        "  # quantize the value\n",
        "  q_value = np.round(scale*value + zero_point)\n",
        "  return q_value.astype(d_type)\n",
        "\n",
        "def dequantize_value(r, value, d_type='int8'):\n",
        "  # get scale\n",
        "  scale = get_scale(r, d_type)\n",
        "\n",
        "  # get zero point\n",
        "  zero_point = get_zeropoint(r, d_type  )\n",
        "\n",
        "  # dequantize the value\n",
        "  r_value = (value - zero_point) / scale\n",
        "\n",
        "  return r_value\n",
        "\n",
        "r = np.linspace(-1.0 , 1.0)\n",
        "quantized_value = zero_point_quantiztion(r, 0.5)\n",
        "\n",
        "print(r)\n",
        "print(np.min(r), np.max(r))\n",
        "print('scale :', get_scale(r))\n",
        "print('zero point :', get_zeropoint(r))\n",
        "print(quantized_value)\n",
        "print(dequantize_value(r, quantized_value))"
      ]
    },
    {
      "cell_type": "markdown",
      "source": [
        "# absmax qunatization"
      ],
      "metadata": {
        "id": "sPHo4ZjGKZll"
      }
    },
    {
      "cell_type": "code",
      "source": [
        "def get_absmax(r):\n",
        "  return np.max(np.abs(r))\n",
        "\n",
        "def get_range_data_type(d_type='int8'):\n",
        "  return np.iinfo(d_type).max\n",
        "\n",
        "def get_absmax_scale(r, dtype='int8'):\n",
        "  absmax = get_absmax(r)\n",
        "  scale = get_range_data_type(dtype) / absmax\n",
        "  return scale\n",
        "\n",
        "def absmax_quantization(r, value, dtype='int8'):\n",
        "  absmax = get_absmax(r)\n",
        "  scale = get_absmax_scale(r, dtype)\n",
        "  quantized_value = np.round(value * scale)\n",
        "  return quantized_value.astype(dtype)\n",
        "\n",
        "def dequantize_value(r, value, dtype='int8'):\n",
        "  absmax = get_absmax(r)\n",
        "  scale = get_absmax_scale(r, dtype)\n",
        "  r_value = value / scale\n",
        "  return r_value\n",
        "\n",
        "\n",
        "def matrix_absmax_quantization(matrix_q, dtype='int8'):\n",
        "  abs_max = get_absmax(matrix_q)\n",
        "  scale = get_range_data_type(dtype) / abs_max\n",
        "  quantized_matrix = np.round(matrix_q * scale)\n",
        "  return quantized_matrix.astype('int8')\n",
        "\n",
        "def matrix_dequantize_value(matrix_q, quantized_matrix, dtype='int8'):\n",
        "  abs_max = get_absmax(matrix_q)\n",
        "  scale = get_absmax_scale(matrix_q, dtype)\n",
        "  r_value_matrix = quantized_matrix / scale\n",
        "  return r_value_matrix\n",
        "\n",
        "\n",
        "vector_a = np.random.randn(8)\n",
        "value = vector_a[3]\n",
        "quantized = absmax_quantization(vector_a, value)\n",
        "print('vector a :', vector_a)\n",
        "print('4번째 원소 :', value)\n",
        "print('vector a의 절대 최대 값 :', get_absmax(vector_a))\n",
        "print('data의 범위값 :', get_range_data_type())\n",
        "print('양자화 값 :', absmax_quantization(vector_a, value))\n",
        "print('역 양자화 값', dequantize_value(vector_a,quantized))"
      ],
      "metadata": {
        "colab": {
          "base_uri": "https://localhost:8080/"
        },
        "id": "R9m8qQ_LJZqU",
        "outputId": "02d2efbc-fcb2-4292-aa8f-6574fb4456a8"
      },
      "execution_count": null,
      "outputs": [
        {
          "output_type": "stream",
          "name": "stdout",
          "text": [
            "vector a : [ 0.67229476  0.40746184 -0.76991607  0.53924919 -0.67433266  0.03183056\n",
            " -0.63584608  0.67643329]\n",
            "4번째 원소 : 0.5392491912918173\n",
            "vector a의 절대 최대 값 : 0.7699160744453164\n",
            "data의 범위값 : 127\n",
            "양자화 값 : 89\n",
            "역 양자화 값 0.539547485241206\n"
          ]
        }
      ]
    },
    {
      "cell_type": "markdown",
      "source": [
        "# Matrix quantization operation\n",
        "\n",
        "$X_{f16}W_{f16} = C_{f16} ≈\n",
        "\\frac{1}{c_{x_{f16}}c_{w_{f16}}}C_{i32}= S_{f16} · C_{i32} $\n",
        "\n",
        "$≈ S_{f16} · A_{i8}B_{i8} = S_{f16} · Q(A_{f16}) Q(B_{f16})$\n",
        "\n",
        "아래는 quantization을 실행하는 코드에 대한 것이다."
      ],
      "metadata": {
        "id": "1ljrNGXTnABD"
      }
    },
    {
      "cell_type": "code",
      "source": [
        "np.random.seed(0)\n",
        "\n",
        "# X_f16 * W_f16\n",
        "input_matrix_x = np.random.randn(8, 8).astype('float16')\n",
        "weight_matrix_w = np.random.randn(8, 8).astype('float16')\n",
        "\n",
        "print('inut_x')\n",
        "print(input_matrix_x, input_matrix_x.dtype)\n",
        "print('weight_w')\n",
        "print(weight_matrix_w, weight_matrix_w.dtype)\n",
        "\n",
        "result_matrix_C = np.matmul(input_matrix_x, weight_matrix_w)\n",
        "print('result_matrix_C')\n",
        "print(result_matrix_C, result_matrix_C.dtype)\n"
      ],
      "metadata": {
        "colab": {
          "base_uri": "https://localhost:8080/"
        },
        "id": "ZVFsme_Mm_0J",
        "outputId": "73d8e8da-7c18-469f-b12c-84676f9080bc"
      },
      "execution_count": null,
      "outputs": [
        {
          "output_type": "stream",
          "name": "stdout",
          "text": [
            "inut_x\n",
            "[[ 1.764    0.4001   0.9785   2.24     1.867   -0.977    0.95    -0.1514 ]\n",
            " [-0.1032   0.4106   0.144    1.454    0.761    0.1217   0.4438   0.3337 ]\n",
            " [ 1.494   -0.2052   0.313   -0.854   -2.553    0.654    0.8643  -0.742  ]\n",
            " [ 2.27    -1.454    0.04575 -0.1871   1.533    1.47     0.1549   0.3782 ]\n",
            " [-0.8877  -1.98    -0.348    0.1564   1.23     1.202   -0.3872  -0.3022 ]\n",
            " [-1.049   -1.42    -1.706    1.951   -0.51    -0.438   -1.253    0.7773 ]\n",
            " [-1.614   -0.2128  -0.8955   0.387   -0.5107  -1.181   -0.02818  0.4282 ]\n",
            " [ 0.0665   0.3025  -0.6343  -0.3628  -0.6724  -0.3596  -0.813   -1.727  ]] float16\n",
            "weight_w\n",
            "[[ 0.1774  -0.4019  -1.63     0.463   -0.907    0.05194  0.729    0.129  ]\n",
            " [ 1.14    -1.234    0.4023  -0.6846  -0.8706  -0.5786  -0.3115   0.05615]\n",
            " [-1.165    0.901    0.4656  -1.536    1.488    1.8955   1.179   -0.1799 ]\n",
            " [-1.07     1.055   -0.403    1.223    0.2083   0.9766   0.3564   0.7065 ]\n",
            " [ 0.0105   1.786    0.127    0.402    1.883   -1.348   -1.2705   0.969  ]\n",
            " [-1.173    1.943   -0.4136  -0.7476   1.923    1.48     1.867    0.9062 ]\n",
            " [-0.8613   1.91    -0.268    0.8022   0.9473  -0.155    0.6143   0.9224 ]\n",
            " [ 0.3765  -1.1      0.2983   1.326   -0.6943  -0.1497  -0.435    1.85   ]] float16\n",
            "result_matrix_C\n",
            "[[-2.479    5.46    -2.82     3.82     2.617   -0.1849  -0.434    3.178  ]\n",
            " [-1.666    3.275   -0.1587   2.242    2.11     0.4856  -0.1276   2.887  ]\n",
            " [-1.237   -1.788   -3.076   -2.498   -3.104    4.34     6.535   -2.936  ]\n",
            " [-2.807    6.203   -4.527    1.891    4.832    0.892    2.822    3.73   ]\n",
            " [-3.354    6.78     0.09766  0.555    6.516    0.82     0.1904   1.313  ]\n",
            " [-0.02481 -2.314    0.2416   5.64    -3.473   -0.4448  -2.916    0.862  ]\n",
            " [ 1.665   -3.219    2.531    2.469   -3.158   -2.4     -3.787   -0.5845 ]\n",
            " [ 1.949   -2.908   -0.3696  -2.59    -2.871   -0.97    -0.488   -5.04   ]] float16\n"
          ]
        }
      ]
    },
    {
      "cell_type": "code",
      "source": [
        "\n",
        "#quantize X, W and mulitply S_f16\n",
        "quantized_X = matrix_absmax_quantization(input_matrix_x)\n",
        "quantized_W = matrix_absmax_quantization(weight_matrix_w)\n",
        "\n",
        "print('==============quantized==============' )\n",
        "print(quantized_X, quantized_X.dtype)\n",
        "print(quantized_W, quantized_W.dtype)\n",
        "\n",
        "print('==============dequantized==============' )\n",
        "dequantized_x = matrix_dequantize_value(input_matrix_x, quantized_X)\n",
        "dequantized_w = matrix_dequantize_value(weight_matrix_w, quantized_W)\n",
        "print(dequantized_x, dequantized_x.dtype)\n",
        "print(dequantized_w, dequantized_w.dtype)\n",
        "\n",
        "print('==============origin-dequantized==============' )\n",
        "print(input_matrix_x - dequantized_x)\n",
        "print(weight_matrix_w - dequantized_w)\n",
        "\n",
        "scale_x = get_absmax_scale(input_matrix_x)\n",
        "scale_w = get_absmax_scale(weight_matrix_w)\n",
        "\n",
        "print('scale_x :', scale_x)\n",
        "print('scale_w :', scale_w)\n",
        "\n",
        "S_f16 = 1 / (scale_x * scale_w)\n",
        "print('S_f16 :', S_f16)\n",
        "\n",
        "quantized_scaled_C = S_f16 * np.matmul(quantized_X, quantized_W)\n",
        "print(quantized_scaled_C, quantized_scaled_C.dtype)\n"
      ],
      "metadata": {
        "colab": {
          "base_uri": "https://localhost:8080/"
        },
        "id": "GyaDBu9svIBF",
        "outputId": "bc5faf21-ce73-418e-8789-46b871d616b9"
      },
      "execution_count": null,
      "outputs": [
        {
          "output_type": "stream",
          "name": "stdout",
          "text": [
            "==============quantized==============\n",
            "[[  88   20   49  111   93  -49   47   -8]\n",
            " [  -5   20    7   72   38    6   22   17]\n",
            " [  74  -10   16  -42 -127   33   43  -37]\n",
            " [ 113  -72    2   -9   76   73    8   19]\n",
            " [ -44  -98  -17    8   61   60  -19  -15]\n",
            " [ -52  -71  -85   97  -25  -22  -62   39]\n",
            " [ -80  -11  -45   19  -25  -59   -1   21]\n",
            " [   3   15  -32  -18  -33  -18  -40  -86]] int8\n",
            "[[  12  -26 -107   30  -59    3   48    8]\n",
            " [  74  -81   26  -45  -57  -38  -20    4]\n",
            " [ -76   59   30 -100   97  124   77  -12]\n",
            " [ -70   69  -26   80   14   64   23   46]\n",
            " [   1  117    8   26  123  -88  -83   63]\n",
            " [ -77  127  -27  -49  126   97  122   59]\n",
            " [ -56  125  -18   52   62  -10   40   60]\n",
            " [  25  -72   20   87  -45  -10  -28  121]] int8\n",
            "==============dequantized==============\n",
            "[[ 1.76882382  0.40200541  0.98491326  2.23113004  1.86932517 -0.98491326\n",
            "   0.94471272 -0.16080217]\n",
            " [-0.10050135  0.40200541  0.14070189  1.44721949  0.76381029  0.12060162\n",
            "   0.44220595  0.3417046 ]\n",
            " [ 1.48742003 -0.20100271  0.32160433 -0.84421137 -2.55273438  0.66330893\n",
            "   0.86431164 -0.74371001]\n",
            " [ 2.27133059 -1.44721949  0.04020054 -0.18090244  1.52762057  1.46731976\n",
            "   0.16080217  0.38190514]\n",
            " [-0.88441191 -1.96982653 -0.3417046   0.16080217  1.22611651  1.20601624\n",
            "  -0.38190514 -0.30150406]\n",
            " [-1.04521407 -1.42711922 -1.70852301  1.94972625 -0.50250677 -0.44220595\n",
            "  -1.24621678  0.78391056]\n",
            " [-1.60802165 -0.22110298 -0.90451218  0.38190514 -0.50250677 -1.18591597\n",
            "  -0.02010027  0.42210568]\n",
            " [ 0.06030081  0.30150406 -0.64320866 -0.36180487 -0.66330893 -0.36180487\n",
            "  -0.80401083 -1.72862328]] float64\n",
            "[[ 0.18362451 -0.3978531  -1.63731853  0.45906127 -0.9028205   0.04590613\n",
            "   0.73449803  0.12241634]\n",
            " [ 1.13235113 -1.23946543  0.3978531  -0.6885919  -0.87221641 -0.58147761\n",
            "  -0.30604085  0.06120817]\n",
            " [-1.16295522  0.9028205   0.45906127 -1.53020423  1.48429811  1.89745325\n",
            "   1.17825726 -0.18362451]\n",
            " [-1.07114296  1.05584092 -0.3978531   1.22416339  0.21422859  0.97933071\n",
            "   0.35194697  0.70389395]\n",
            " [ 0.01530204  1.79033895  0.12241634  0.3978531   1.88215121 -1.34657972\n",
            "  -1.27006951  0.96402867]\n",
            " [-1.17825726  1.94335938 -0.41315514 -0.74980007  1.92805733  1.48429811\n",
            "   1.86684916  0.9028205 ]\n",
            " [-0.85691437  1.91275529 -0.27543676  0.7957062   0.94872662 -0.15302042\n",
            "   0.61208169  0.91812254]\n",
            " [ 0.38255106 -1.10174705  0.30604085  1.33127768 -0.6885919  -0.15302042\n",
            "  -0.42845719  1.85154712]] float64\n",
            "==============origin-dequantized==============\n",
            "[[-5.15194390e-03 -1.85892901e-03 -6.39763780e-03  9.10433071e-03\n",
            "  -2.13767224e-03  7.86248155e-03  5.48259104e-03  9.43497785e-03]\n",
            " [-2.70909587e-03  8.63911786e-03  3.34107406e-03  6.88207431e-03\n",
            "  -2.57981668e-03  1.10247755e-03  1.64170153e-03 -7.96436700e-03]\n",
            " [ 6.72059547e-03 -4.19748862e-03 -8.61604946e-03 -9.79253814e-03\n",
            "   0.00000000e+00 -9.50033834e-03 -5.38262795e-05  1.52251476e-03]\n",
            " [-1.79933563e-03 -6.88207431e-03  5.54530827e-03 -6.23135304e-03\n",
            "   5.58255413e-03  2.40680364e-03 -5.89493879e-03 -3.73131459e-03]\n",
            " [-3.28340305e-03 -1.06422244e-02 -6.19578925e-03 -4.43009504e-03\n",
            "   4.35223917e-03 -3.86780266e-03 -5.30188853e-03 -7.42033711e-04]\n",
            " [-3.61405020e-03  7.19734252e-03  2.46831939e-03  1.44562008e-03\n",
            "  -7.25885827e-03  4.21767347e-03 -6.71290600e-03 -6.56680610e-03]\n",
            " [-6.23615896e-03  8.33442267e-03  9.00436762e-03  5.05774791e-03\n",
            "  -8.23542077e-03  5.25190699e-03 -8.08271273e-03  6.11697219e-03]\n",
            " [ 6.22750830e-03  9.86174336e-04  8.93131767e-03 -9.88096703e-04\n",
            "  -9.05434916e-03  2.18573142e-03 -8.97745448e-03  2.06077756e-03]]\n",
            "[[-6.25634381e-03 -4.00236836e-03  7.43571604e-03  3.82935531e-03\n",
            "  -4.40606545e-03  6.03479100e-03 -5.49412525e-03  6.61198173e-03]\n",
            " [ 7.29730561e-03  5.09042815e-03  4.49064961e-03  4.02159203e-03\n",
            "   1.61094365e-03  2.86432702e-03 -5.48259104e-03 -5.05582554e-03]\n",
            " [-2.08384596e-03 -1.94159080e-03  6.51490219e-03 -5.92858022e-03\n",
            "   3.98314469e-03 -1.94543553e-03  4.53678642e-04  3.69286725e-03]\n",
            " [ 8.30462598e-04 -1.15342028e-03 -5.22307148e-03 -1.50713583e-03\n",
            "  -5.97663939e-03 -2.76820866e-03  4.49833907e-03  2.64902190e-03]\n",
            " [-4.80399545e-03 -4.20613927e-03  4.53678642e-03  4.24650898e-03\n",
            "   6.61294291e-04 -1.07652559e-03 -4.38299705e-04  5.20961491e-03]\n",
            " [ 5.40569636e-03 -2.22044605e-16 -4.19076033e-04  2.24148007e-03\n",
            "  -5.20577018e-03 -3.82935531e-03  3.38336614e-04  3.42950295e-03]\n",
            " [-4.41375492e-03 -2.59904035e-03  7.37035556e-03  6.53989296e-03\n",
            "  -1.46099902e-03 -2.00887365e-03  2.17611959e-03  4.24074188e-03]\n",
            " [-6.08621432e-03  2.13767224e-03 -7.70100271e-03 -5.10580709e-03\n",
            "  -5.74403297e-03  3.36222010e-03 -6.60140871e-03 -1.93774606e-03]]\n",
            "scale_x : 49.75057383320581\n",
            "scale_w : 65.35075376884421\n",
            "S_f16 : 0.00030757519248192795\n",
            "[[ 0.0036909   0.02675904 -0.01076513 -0.00030758  0.02029996  0.0384469\n",
            "   0.02860449 -0.03629387]\n",
            " [-0.00215303 -0.03906205 -0.00276818 -0.02983479 -0.01261058  0.00399848\n",
            "   0.01507118 -0.02429844]\n",
            " [-0.01014998 -0.01999239 -0.01322573  0.          0.0061515  -0.0372166\n",
            "   0.02860449 -0.01568633]\n",
            " [-0.01599391 -0.01168786  0.01599391  0.01045756  0.02337571  0.01660906\n",
            "  -0.00584393  0.0061515 ]\n",
            " [ 0.02768177  0.02368329  0.02952722 -0.00276818 -0.01322573 -0.00861211\n",
            "  -0.03936962 -0.02952722]\n",
            " [-0.02829692 -0.02214541 -0.02706662  0.01845451  0.01414846  0.01291816\n",
            "  -0.03044994  0.02829692]\n",
            " [ 0.01199543  0.02091511  0.02122269 -0.01876209 -0.00861211  0.00830453\n",
            "  -0.03414085 -0.01630149]\n",
            " [-0.03660145  0.02891207  0.02429844  0.02614389 -0.0335257   0.01999239\n",
            "   0.0335257   0.02368329]] float64\n"
          ]
        }
      ]
    },
    {
      "cell_type": "code",
      "source": [
        "errors = result_matrix_C - quantized_scaled_C\n",
        "print(errors)"
      ],
      "metadata": {
        "colab": {
          "base_uri": "https://localhost:8080/"
        },
        "id": "LDwe2BPDwo2a",
        "outputId": "5353d8a8-23a6-44f4-ef3b-bd49cfed16d8"
      },
      "execution_count": null,
      "outputs": [
        {
          "output_type": "stream",
          "name": "stdout",
          "text": [
            "[[-2.48220653e+00  5.43417846e+00 -2.80954737e+00  3.82062008e+00\n",
            "   2.59688754e+00 -2.23383422e-01 -4.62686524e-01  3.21402825e+00]\n",
            " [-1.66386260e+00  3.31445267e+00 -1.55923230e-01  2.27202229e+00\n",
            "   2.12198558e+00  4.81597226e-01 -1.42634661e-01  2.91101719e+00]\n",
            " [-1.22715471e+00 -1.76809355e+00 -3.06294614e+00 -2.49804688e+00\n",
            "  -3.10966713e+00  4.37706035e+00  6.50655176e+00 -2.91986054e+00]\n",
            " [-2.79064671e+00  6.21481286e+00 -4.54333766e+00  1.88016744e+00\n",
            "   4.80865554e+00  8.75480783e-01  2.82810955e+00  3.72431725e+00]\n",
            " [-3.38119739e+00  6.75756671e+00  6.81290315e-02  5.57943958e-01\n",
            "   6.52885073e+00  8.28436324e-01  2.29799312e-01  1.34300378e+00]\n",
            " [ 3.48612669e-03 -2.29230771e+00  2.68643765e-01  5.62217049e+00\n",
            "  -3.48680471e+00 -4.57742377e-01 -2.88556568e+00  8.33519489e-01]\n",
            " [ 1.65304363e+00 -3.23966511e+00  2.51002731e+00  2.48751209e+00\n",
            "  -3.14959102e+00 -2.40869516e+00 -3.75296853e+00 -5.68171171e-01]\n",
            " [ 1.98582020e+00 -2.93711519e+00 -3.93927346e-01 -2.61598764e+00\n",
            "  -2.83756805e+00 -9.90207231e-01 -5.21562805e-01 -5.06274579e+00]]\n"
          ]
        }
      ]
    },
    {
      "cell_type": "markdown",
      "source": [
        "위와 같은 경우에 에러가 매우 큼을 알 수 있었다. 다만 중간의 결과값을 int32로 저장하고 다시 Scaling factor로 계산해주면 비슷한 근사치로 값이 나오게 됨을 알 수 있었다."
      ],
      "metadata": {
        "id": "V6wkyzrR4XY2"
      }
    },
    {
      "cell_type": "code",
      "source": [
        "intermediate = np.matmul(quantized_X.astype('int32'), quantized_W.astype('int32'))\n",
        "intermediate = intermediate * S_f16\n",
        "print(intermediate)"
      ],
      "metadata": {
        "colab": {
          "base_uri": "https://localhost:8080/"
        },
        "id": "v9ztG8MA4yFe",
        "outputId": "08b8d5ce-b02c-41bf-c5e9-b735a7500741"
      },
      "execution_count": null,
      "outputs": [
        {
          "output_type": "stream",
          "name": "stdout",
          "text": [
            "[[-2.43722583  5.45976724 -2.84537811  3.77917639  2.61869519 -0.19777085\n",
            "  -0.443831    3.1132761 ]\n",
            " [-1.65567726  3.26798642 -0.16024668  2.25360344  2.11334915  0.47643397\n",
            "  -0.14240731  2.88905378]\n",
            " [-1.26997797 -1.75225587 -3.08405646 -2.51965598 -3.06467922  4.37218136\n",
            "   6.56396218 -2.92903856]\n",
            " [-2.77186763  6.20871284 -4.55088255  1.90019954  4.82646992  0.8827408\n",
            "   2.82876905  3.70689622]\n",
            " [-3.35810595  6.79525873  0.10826647  0.54840657  6.52213196  0.85751964\n",
            "   0.19684812  1.30904002]\n",
            " [-0.02829692 -2.30558364  0.28789038  5.68768046 -3.45037851 -0.45951734\n",
            "  -2.94380217  0.89442866]\n",
            " [ 1.66551967 -3.20739411  2.54087867  2.50089389 -3.15818208 -2.4326122\n",
            "  -3.81362481 -0.56747623]\n",
            " [ 1.93187978 -2.88444016 -0.36939781 -2.57225133 -2.86813867 -1.00361785\n",
            "  -0.51764905 -5.01562866]]\n"
          ]
        }
      ]
    },
    {
      "cell_type": "code",
      "source": [
        "errors_with_intermediate = result_matrix_C - intermediate\n",
        "print(errors_with_intermediate)"
      ],
      "metadata": {
        "colab": {
          "base_uri": "https://localhost:8080/"
        },
        "id": "wxRwPq1A5Fld",
        "outputId": "a94f1a99-0d3e-4340-8d45-2989c68bbbd8"
      },
      "execution_count": null,
      "outputs": [
        {
          "output_type": "stream",
          "name": "stdout",
          "text": [
            "[[-4.12897998e-02  1.17025825e-03  2.50656057e-02  4.11361100e-02\n",
            "  -1.50768879e-03  1.28343253e-02  9.74897150e-03  6.44582767e-02]\n",
            " [-1.03383639e-02  7.40420488e-03  1.55526903e-03 -1.14159353e-02\n",
            "  -3.97414754e-03  9.16172997e-03  1.48438376e-02 -2.33503298e-03]\n",
            " [ 3.26732823e-02 -3.58300659e-02  7.88458002e-03  2.16091018e-02\n",
            "  -3.88364071e-02 -3.23376111e-02 -2.88059328e-02 -6.50831699e-03]\n",
            " [-3.47729904e-02 -5.58783544e-03  2.35387980e-02 -9.57453915e-03\n",
            "   5.56132957e-03  9.34904133e-03 -6.50342026e-03  2.35725302e-02]\n",
            " [ 4.59032652e-03 -1.40087275e-02 -1.06102178e-02  6.76921305e-03\n",
            "  -6.50695658e-03 -3.76954179e-02 -6.41843569e-03  4.43654330e-03]\n",
            " [ 3.48612669e-03 -8.86948216e-03 -4.63132317e-02 -4.70554594e-02\n",
            "  -2.22777407e-02  1.46931188e-02  2.77865422e-02 -3.26122535e-02]\n",
            " [-4.80604790e-04 -1.13558928e-02 -9.62866509e-03 -3.21438901e-02\n",
            "  -2.10485956e-05  3.22215723e-02  2.65154366e-02 -1.69964261e-02]\n",
            " [ 1.73389660e-02 -2.37629699e-02 -2.31100079e-04 -1.75924153e-02\n",
            "  -2.95508011e-03  3.34030093e-02  2.96119396e-02 -2.34338362e-02]]\n"
          ]
        }
      ]
    }
  ]
}